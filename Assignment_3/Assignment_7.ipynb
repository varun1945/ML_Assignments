{
 "cells": [
  {
   "cell_type": "code",
   "execution_count": 12,
   "metadata": {},
   "outputs": [
    {
     "name": "stdout",
     "output_type": "stream",
     "text": [
      "0.009259259259259259\n"
     ]
    }
   ],
   "source": [
    "#Question 1\n",
    "\n",
    "A=11/36\n",
    "B=6/36\n",
    "U=2/36\n",
    "\n",
    "def pobab(A,B,U):\n",
    "    return B*U\n",
    "c=pobab(A,B,U)\n",
    "print(c)"
   ]
  },
  {
   "cell_type": "code",
   "execution_count": 24,
   "metadata": {},
   "outputs": [
    {
     "data": {
      "text/plain": [
       "0.5666666666666667"
      ]
     },
     "execution_count": 24,
     "metadata": {},
     "output_type": "execute_result"
    }
   ],
   "source": [
    "#Question 2\n",
    "# p is probability of getting black ball from bag\n",
    "#b1 is probabality of selecting bag1\n",
    "#b2 is probabality of selecting bag2\n",
    "#we are using bayes theorem\n",
    "#to find the probab. of bag is 1 ,if black ball is drawn\n",
    "((6/10) *(1/2))/(9/17)  #(p1/p)=((a/b1)*(b1))/(p)\n"
   ]
  },
  {
   "cell_type": "code",
   "execution_count": 25,
   "metadata": {},
   "outputs": [
    {
     "name": "stdout",
     "output_type": "stream",
     "text": [
      "0.6666666666666666\n"
     ]
    }
   ],
   "source": [
    "#question 3\n",
    "#using bayes theroem\n",
    "#to find the probability that the number obtained is actually a four\n",
    "\n",
    "print(((1/6) *(2/3))/(1/6))"
   ]
  }
 ],
 "metadata": {
  "kernelspec": {
   "display_name": "Python 3",
   "language": "python",
   "name": "python3"
  },
  "language_info": {
   "codemirror_mode": {
    "name": "ipython",
    "version": 3
   },
   "file_extension": ".py",
   "mimetype": "text/x-python",
   "name": "python",
   "nbconvert_exporter": "python",
   "pygments_lexer": "ipython3",
   "version": "3.6.5"
  }
 },
 "nbformat": 4,
 "nbformat_minor": 2
}
